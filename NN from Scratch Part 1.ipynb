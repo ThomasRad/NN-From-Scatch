{
 "cells": [
  {
   "cell_type": "markdown",
   "metadata": {},
   "source": [
    "# Building a neural network from scatch "
   ]
  },
  {
   "cell_type": "code",
   "execution_count": 18,
   "metadata": {},
   "outputs": [
    {
     "name": "stdout",
     "output_type": "stream",
     "text": [
      "[0.2, 0.8, -0.1, -0.2] 1\n",
      "2.0\n",
      "[0.2, 0.2, -0.1, -0.2] 2\n",
      "1.8\n",
      "[0.2, 0.3, 0.4, 0.5] 2\n",
      "5.25\n",
      "[2.0, 1.8, 5.25]\n"
     ]
    }
   ],
   "source": [
    "# inputs, Weights and bias. \n",
    "\n",
    "inputs = [1, 2, 3, 2.5]\n",
    "weights = [[0.2, 0.8, -0.1, -.2], [0.2,0.2,-.1,-.2],[.2,.3,.4,.5]]\n",
    "biases = [1,2,2]\n",
    "\n",
    "# simple layer construction. \n",
    "\n",
    "layer_outputs = []\n",
    "\n",
    "# Create a list of weights and bias pairs. \n",
    "\n",
    "for neuron_weights, neuron_bias in zip(weights, biases):\n",
    "    print(neuron_weights, neuron_bias)\n",
    "    neuron_ouput = 0\n",
    "    for n_input, weight in zip(inputs, neuron_weights):\n",
    "        \n",
    "        # Combine input with the weights.\n",
    "        neuron_ouput += n_input*weight\n",
    "        \n",
    "        \n",
    "    # And add the bias to the result. \n",
    "    neuron_ouput += neuron_bias\n",
    "    print(neuron_ouput)\n",
    "    \n",
    "    layer_outputs.append(neuron_ouput)\n",
    "    \n",
    "print(layer_outputs)"
   ]
  },
  {
   "cell_type": "code",
   "execution_count": null,
   "metadata": {},
   "outputs": [],
   "source": []
  }
 ],
 "metadata": {
  "kernelspec": {
   "display_name": "Python 3",
   "language": "python",
   "name": "python3"
  },
  "language_info": {
   "codemirror_mode": {
    "name": "ipython",
    "version": 3
   },
   "file_extension": ".py",
   "mimetype": "text/x-python",
   "name": "python",
   "nbconvert_exporter": "python",
   "pygments_lexer": "ipython3",
   "version": "3.7.6"
  }
 },
 "nbformat": 4,
 "nbformat_minor": 4
}
